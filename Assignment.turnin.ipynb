{
 "cells": [
  {
   "cell_type": "markdown",
   "metadata": {
    "cs203.is_response": true,
    "deletable": false,
    "editable": true,
    "tags": []
   },
   "source": [
    "<div class=\"namebox\">    \n",
    "Double Click to edit and enter your\n",
    "\n",
    "1.  Aparna Mohan\n",
    "2.  862396080\n",
    "3.  amoha121@ucr.edu\n",
    "    \n",
    "</div>"
   ]
  },
  {
   "cell_type": "code",
   "execution_count": 4,
   "metadata": {
    "cs203.is_response": true,
    "deletable": false,
    "editable": false,
    "tags": []
   },
   "outputs": [
    {
     "name": "stdout",
     "output_type": "stream",
     "text": [
      "srun -N1 -p cs203  getconf -a | grep CACHE\n",
      "LEVEL1_ICACHE_SIZE                 32768\n",
      "LEVEL1_ICACHE_ASSOC                8\n",
      "LEVEL1_ICACHE_LINESIZE             64\n",
      "LEVEL1_DCACHE_SIZE                 32768\n",
      "LEVEL1_DCACHE_ASSOC                8\n",
      "LEVEL1_DCACHE_LINESIZE             64\n",
      "LEVEL2_CACHE_SIZE                  524288\n",
      "LEVEL2_CACHE_ASSOC                 8\n",
      "LEVEL2_CACHE_LINESIZE              64\n",
      "LEVEL3_CACHE_SIZE                  16777216\n",
      "LEVEL3_CACHE_ASSOC                 0\n",
      "LEVEL3_CACHE_LINESIZE              64\n",
      "LEVEL4_CACHE_SIZE                  0\n",
      "LEVEL4_CACHE_ASSOC                 0\n",
      "LEVEL4_CACHE_LINESIZE              0\n"
     ]
    }
   ],
   "source": [
    "!cs203 job run ' getconf -a | grep CACHE'"
   ]
  },
  {
   "cell_type": "markdown",
   "metadata": {
    "cs203.is_response": true,
    "cs203.points": 1,
    "cs203.question_type": "completeness",
    "deletable": false,
    "editable": false,
    "tags": []
   },
   "source": [
    "<div class=\"alert alert-block alert-success\"><div class=\"question correctness\">\n",
    "\n",
    "### Question 1 (Correctness)\n",
    "\n",
    "<div class=\"question-text\">\n",
    "\n",
    "Reading the output from the above command, let's focus on \"LEVEL1_D\", namely, the L1 data cache configuration first. Remember the $C=ABS$ equation we taught in class, can you try to answer the following questions? \n",
    "</div>\n",
    "    \n",
    "<div class=\"answer\">\n",
    "\n",
    "**What's the value of C:** \n",
    "    \n",
    "**What's the value of A:**\n",
    "\n",
    "**What's the value of B:**\n",
    "\n",
    "**What's the value of S:**\n",
    "\n",
    "**How many bits are there in the offset?:**\n",
    "\n",
    "**How many bits are there in the index?:**\n",
    "    \n",
    "</div>\n",
    "</div>\n",
    "</div>"
   ]
  },
  {
   "cell_type": "markdown",
   "metadata": {
    "cs203.is_response": true,
    "cs203.points": 6,
    "cs203.question_type": "completeness",
    "deletable": false,
    "editable": true,
    "tags": []
   },
   "source": [
    "<div class=\"alert alert-block alert-success\">\n",
    "<div class=\"answer\">\n",
    "You answers:\n",
    "    \n",
    "**What's the value of C:** C stands for Capacity, the capacity of L1 Cache is 32768\n",
    "    \n",
    "**What's the value of A:** A stands for Associative. From the above table L1 Cache has A=8\n",
    "\n",
    "**What's the value of B:** B stands for Blocksize (Cacheline). Here B = 64\n",
    "\n",
    "**What's the value of S:** For L1 Cache, S = C/A*B, S = 64\n",
    "\n",
    "**How many bits are there in the offset?:** Offset = lg(B) = lg(64) = 6 bits\n",
    "\n",
    "**How many bits are there in the index?:** Index = lg(S) = 6 bits\n",
    "    \n",
    "</div>\n",
    "</div>"
   ]
  },
  {
   "cell_type": "markdown",
   "metadata": {
    "cs203.is_response": true,
    "cs203.points": 20,
    "cs203.question_type": "completeness",
    "deletable": false,
    "editable": false,
    "tags": []
   },
   "source": [
    "<div class=\"alert alert-block alert-success\"><div class=\"question correctness\">\n",
    "\n",
    "### Question 2 (Correctness)\n",
    "\n",
    "<div class=\"question-text\">\n",
    "Given the cache configuration we've learned in Question 1. If `size == 8192`, how many total L1 data cache misses do think will occur during the execution of `array()`? Assume the cache is empty to begin and you may assume the `data` address starts with something like 0x40000 as we did in the lecture. \n",
    "</div>\n",
    "    \n",
    "<div class=\"answer\">\n",
    "\n",
    "**Start with filling the table with the first 16 memory accesses**\n",
    "| data[?] | address | tag | index | offset| hit or miss|\n",
    "|---------|---------|-----|-------|-------|------------|\n",
    "| data[0] | 0x40000 | 0x40|    0x0|    0x0| miss       |\n",
    "|         |         |     |       |       |            |\n",
    "|         |         |     |       |       |            |\n",
    "|         |         |     |       |       |            |\n",
    "|         |         |     |       |       |            |\n",
    "|         |         |     |       |       |            |\n",
    "|         |         |     |       |       |            |\n",
    "|         |         |     |       |       |            |\n",
    "|         |         |     |       |       |            |\n",
    "|         |         |     |       |       |            |\n",
    "|         |         |     |       |       |            |\n",
    "|         |         |     |       |       |            |\n",
    "|         |         |     |       |       |            |\n",
    "|         |         |     |       |       |            |\n",
    "|         |         |     |       |       |            |\n",
    "|         |         |     |       |       |            |\n",
    "\n",
    "**What's the estimate cache miss rate? Please explain. You may find LaTeX formula syntax useful.**\n",
    "</div>\n",
    "</div>\n",
    "</div>"
   ]
  },
  {
   "cell_type": "markdown",
   "metadata": {
    "cs203.is_response": true,
    "cs203.points": 20,
    "cs203.question_type": "completeness",
    "deletable": false,
    "editable": true,
    "tags": []
   },
   "source": [
    "<div class=\"alert alert-block alert-success\">\n",
    "    \n",
    "<div class=\"answer\">\n",
    "\n",
    "**Start with filling the table with the first 16 memory accesses**\n",
    "    \n",
    "| data[?] | address | tag | index | offset| hit or miss|\n",
    "|---------|---------|-----|-------|-------|------------|\n",
    "| data[0] | 0x40000 | 0x40| 0x0   | 0x0   | miss       |\n",
    "| data[1] | 0x40008 | 0x40| 0x0   | 0x8   | hit        |\n",
    "| data[2] | 0x40010 | 0x40| 0x0   | 0x10  | hit        |\n",
    "| data[3] | 0x40018 | 0x40| 0x0   | 0x18  | hit        |\n",
    "| data[4] | 0x40020 | 0x40| 0x0   | 0x20  | hit        |\n",
    "| data[5] | 0x40028 | 0x40| 0x0   | 0x28  | hit        |\n",
    "| data[6] | 0x40030 | 0x40| 0x0   | 0x30  | hit        |\n",
    "| data[7] | 0x40038 | 0x40| 0x0   | 0x38  | hit        |\n",
    "| data[8] | 0x40040 | 0x40| 0x1   | 0x0   | miss       |\n",
    "| data[9] | 0x40048 | 0x40| 0x1   | 0x8   | hit        |\n",
    "| data[10]| 0x40050 | 0x40| 0x1   | 0x10  | hit        |\n",
    "| data[11]| 0x40058 | 0x40| 0x1   | 0x18  | hit        |\n",
    "| data[12]| 0x40060 | 0x40| 0x1   | 0x20  | hit        |\n",
    "| data[13]| 0x40068 | 0x40| 0x1   | 0x28  | hit        |\n",
    "| data[14]| 0x40070 | 0x40| 0x1   | 0x30  | hit        |\n",
    "| data[15]| 0x40078 | 0x40| 0x1   | 0x38  | hit        |\n",
    "\n",
    "**What's the estimate cache miss rate? Please explain. You may find LaTeX formula syntax useful.**\n",
    "</div>\n",
    "</div>"
   ]
  },
  {
   "cell_type": "markdown",
   "metadata": {
    "cs203.is_response": true,
    "cs203.points": 1,
    "cs203.question_type": "completeness",
    "deletable": false,
    "editable": false,
    "tags": []
   },
   "source": [
    "<div class=\"alert alert-block alert-success\"><div class=\"question completeness\"> \n",
    "\n",
    "### Question 3 (Completeness)\n",
    "\n",
    "<div class=\"question-text\">\n",
    "\n",
    "Predict how many bytes of the structs below will occupy.\n",
    "    \n",
    "</div>\n",
    "   \n",
    "<div class=\"answer\">\n",
    "\n",
    "| struct | sizeof() |\n",
    "|--------|----------|\n",
    "| `struct_1` |     | \n",
    "| `struct_2` |     | \n",
    "| `struct_3` |     | \n",
    "| `struct_4` |     | \n",
    "| `struct_5` |     | \n",
    "| `struct_6` |     | \n",
    "| `struct_7` |     | \n",
    "| `struct_8` |     | \n",
    "    \n",
    "</div>\n",
    "</div>\n",
    "</div>"
   ]
  },
  {
   "cell_type": "markdown",
   "metadata": {
    "cs203.is_response": true,
    "cs203.points": 1,
    "cs203.question_type": "completeness",
    "deletable": false,
    "editable": true
   },
   "source": [
    "<div class=\"alert alert-block alert-success\">    \n",
    "<div class=\"answer\">\n",
    "\n",
    "    \n",
    "| struct     | sizeof() |\n",
    "|--------    |----------|\n",
    "| `struct_1` |   4      | \n",
    "| `struct_2` |   8      | \n",
    "| `struct_3` |   8      | \n",
    "| `struct_4` |   12     | \n",
    "| `struct_5` |   4      | \n",
    "| `struct_6` |   12     | \n",
    "| `struct_7` |   16     | \n",
    "| `struct_8` |   16     | \n",
    "    \n",
    "</div>\n",
    "</div>"
   ]
  },
  {
   "cell_type": "markdown",
   "metadata": {
    "cs203.is_response": true,
    "cs203.question_type": "optional",
    "deletable": false,
    "editable": false,
    "tags": []
   },
   "source": [
    "<div class=\"alert alert-block alert-success\"><div class=\"question optional\">\n",
    "\n",
    "### Question 4 (Optional)\n",
    "<div class=\"question-text\">\n",
    "\n",
    "How would you implement `lat_mem_rd`?\n",
    "    \n",
    "</div>\n",
    "</div>\n",
    "</div>"
   ]
  },
  {
   "cell_type": "markdown",
   "metadata": {
    "cs203.is_response": true,
    "cs203.question_type": "optional",
    "deletable": false,
    "editable": true
   },
   "source": [
    "<div class=\"alert alert-block alert-success\">\n",
    "    \n",
    "<div class=\"answer\">\n",
    "Answer:\n",
    "    \n",
    "How would you implement `lat_mem_rd`?\n",
    "    \n",
    "</div>\n",
    "</div>"
   ]
  },
  {
   "cell_type": "markdown",
   "metadata": {
    "cs203.is_response": true,
    "cs203.points": 4,
    "cs203.question_type": "correctness",
    "deletable": false,
    "editable": false,
    "tags": []
   },
   "source": [
    "<div class=\"alert alert-block alert-success\"><div class=\"question correctness points-4\">\n",
    "\n",
    "### Question 5 (Correctness)\n",
    "\n",
    "<div class=\"question-text\">\n",
    "\n",
    "Based on this graph, give the latencies for each of the caches.\n",
    "</div>\n",
    "</div>\n",
    "</div>"
   ]
  },
  {
   "cell_type": "markdown",
   "metadata": {
    "cs203.is_response": true,
    "cs203.points": 4,
    "cs203.question_type": "correctness",
    "deletable": false,
    "editable": true
   },
   "source": [
    "<div class=\"alert alert-block alert-success\">\n",
    "<div class=\"answer\">\n",
    "\n",
    "| Level of the memory hierarchy | latency (ns) |  latency (Cycles) |  \n",
    "| ------------------------------|--------------|-------------------| \n",
    "| L1                            |0.87          |         4         |\n",
    "| L2                            |2.62          |         10        |\n",
    "| L3                            |3.029         |         12        |\n",
    "| Main memory                   |5             |         19        |\n",
    "    \n",
    "</div>\n",
    "    \n",
    "</div>"
   ]
  },
  {
   "cell_type": "markdown",
   "metadata": {
    "cs203.is_response": true,
    "cs203.points": 2,
    "cs203.question_type": "correctness",
    "deletable": false,
    "editable": false,
    "tags": []
   },
   "source": [
    "<div class=\"alert alert-block alert-success\">\n",
    "<div class=\"question correctness points-8\"> \n",
    "\n",
    "### Question 6 (Correctness)\n",
    "\n",
    "<div class=\"question-text\">\n",
    "\n",
    "Given the following `tensor_t` declarations and accesses, compute the total size of the tensor in element and bytes, and the index (starting at 0) of the corresponding data elements in the `data` array.\n",
    "    \n",
    "</div>\n",
    "   \n",
    "<div class=\"answer\">\n",
    "\n",
    "1.  `tensor_t<uint32_t>(3,5,6,7)`\n",
    "    1. Total elements:  \n",
    "    2. Total bytes: \n",
    "    3. `get(1,0,0,0)`: \n",
    "    4. `get(0,1,0,0)`: \n",
    "    5. `get(0,0,1,0)`: \n",
    "    6. `get(0,0,0,1)`: \n",
    "2.  `tensor_t<double>(2,4,8,16)`\n",
    "    1. Total elements:  \n",
    "    2. Total bytes: \n",
    "    3. `get(1,3,2,4)`: \n",
    "    4. `get(2,2,1,7)`: \n",
    "            \n",
    "</div>\n",
    "</div>\n",
    "</div>"
   ]
  },
  {
   "cell_type": "markdown",
   "metadata": {
    "cs203.is_response": true,
    "cs203.points": 2,
    "cs203.question_type": "correctness",
    "deletable": false,
    "editable": true
   },
   "source": [
    "<div class=\"alert alert-block alert-success\">   \n",
    "<div class=\"answer\">\n",
    "\n",
    "1.  `tensor_t<uint32_t>(3,5,6,7)`\n",
    "    1. Total elements:  \n",
    "    Given data : 4-dimensional tensor\n",
    "    To find the total elements, I'm computing the product 3*5*6*7 = 630  \n",
    "    2. Total bytes: \n",
    "    To find the total bytes I'm computing the product of total elements and uint32_t = 630 * 4 = 2520\n",
    "    3. `get(1,0,0,0)`: \n",
    "    Considering the given value tensor_t<uint32_t>(3,5,6,7):\n",
    "    The solution for get(1,0,0,0) is 1.\n",
    "    4. `get(0,1,0,0)`: 1 * 3 = 3\n",
    "    5. `get(0,0,1,0)`: 1 * 3 * 5 = 15\n",
    "    6. `get(0,0,0,1)`: 1 * 3 * 5 * 6 = 90\n",
    "2.  `tensor_t<double>(2,4,8,16)`\n",
    "    1. Total elements:  \n",
    "    Given data : 4-dimensional tensor\n",
    "    To find the total elements, I'm computing the product 2*4*8*16 = 1024  \n",
    "    2. Total bytes: \n",
    "    To find the total bytes I'm computing the product of total elements and size of double = 1024 * 8 = 8192\n",
    "    3. `get(1,3,2,4)`: 4*(2*4*8) + 2*(2*4) + 3*2 + 1 = 256 + 16 + 6 + 1 = 279\n",
    "    4. `get(2,2,1,7)`: 7*64 + 1*8 + 2*2 + 2 = 448 + 8 + 4 + 2 = 462\n",
    "            \n",
    "</div>\n",
    "</div>"
   ]
  },
  {
   "cell_type": "markdown",
   "metadata": {
    "cs203.is_response": true,
    "cs203.points": 1,
    "cs203.question_type": "correctness",
    "deletable": false,
    "editable": false,
    "tags": []
   },
   "source": [
    "<div class=\"alert alert-block alert-success\"><div class=\"question correctness\">\n",
    "\n",
    "### Question 7 (Correctness)\n",
    "\n",
    "<div class=\"question-text\">\n",
    "How many L1 D-cache misses would you expect for `stride == 1`?  How about `stride == 8` and `stride == 16`?  Assume `size` is very large and that cache lines are 64 bytes. \n",
    "</div>\n",
    "<div class=\"answer\">\n",
    "\n",
    "**`stride == 1` L1 D-Misses:** \n",
    "\n",
    "**`stride == 8` L1 D-Misses:**\n",
    "    \n",
    "**`stride == 16` L1 D-Misses:** \n",
    "\n",
    "</div>\n",
    "</div>\n",
    "</div>"
   ]
  },
  {
   "cell_type": "markdown",
   "metadata": {
    "cs203.is_response": true,
    "cs203.points": 1,
    "cs203.question_type": "correctness",
    "deletable": false,
    "editable": true,
    "tags": []
   },
   "source": [
    "<div class=\"alert alert-block alert-success\">\n",
    "<div class=\"answer\">\n",
    "\n",
    "**`stride == 1` L1 D-Misses:** \n",
    "    <br>Given data: size of the block is 64 bytes, size(uint32_t) is 4.\n",
    "    <br>Cache miss = Size of the block/size(uint32_t) = 64/4 = 16.\n",
    "    <br>Since it is given that size is very large temporal locality is disregarded.\n",
    "    <br>**So, L1 D-Misses for stride==1 is size/16**\n",
    "\n",
    "**`stride == 8` L1 D-Misses:**\n",
    "    <br>Given data: size of the block is 64 bytes, stride*size(uint32_t) = 8*4 = 32.\n",
    "    <br>Cache miss = Size of the block/32 = 64/32 = 2.\n",
    "    <br>Since it is given that size is very large temporal locality is disregarded.\n",
    "    <br>**So, L1 D-Misses for stride==8 is size/2**\n",
    "    \n",
    "    \n",
    "**`stride == 16` L1 D-Misses:** \n",
    "    <br>Given data: size of the block is 64 bytes, stride*size(uint32_t) = 16*4 = 64.\n",
    "    <br>Cache miss = Size of the block/64 = 64/64 = 1.\n",
    "    <br>Since it is given that size is very large temporal locality is disregarded.\n",
    "    <br>**So, L1 D-Misses for stride==8 is size**\n",
    "    \n",
    "\n",
    "</div>\n",
    "</div>\n",
    "</div>"
   ]
  },
  {
   "cell_type": "markdown",
   "metadata": {
    "cs203.is_response": true,
    "cs203.points": 1,
    "cs203.question_type": "completeness",
    "deletable": false,
    "editable": false,
    "tags": []
   },
   "source": [
    "<div class=\"alert alert-block alert-success\">\n",
    "<div class=\"question completeness\">\n",
    "\n",
    "### Question 8 (Completeness)\n",
    "\n",
    "<div class=\"question-text\">\n",
    "Do the measurements match our predictions?  Does anything seem surprising about the results?\n",
    "    </div>\n",
    "</div>\n",
    "</div>"
   ]
  },
  {
   "cell_type": "markdown",
   "metadata": {
    "cs203.is_response": true,
    "cs203.points": 1,
    "cs203.question_type": "completeness",
    "deletable": false,
    "editable": true
   },
   "source": [
    "<div class=\"alert alert-block alert-success\">\n",
    "<div class=\"answer\">\n",
    "Answer: From the graph above and on comparison with the generated csv, I can observe that L1D cache misses are higher than what I expected.\n",
    "</div>\n",
    "</div>"
   ]
  },
  {
   "cell_type": "markdown",
   "metadata": {
    "cs203.is_response": true,
    "cs203.points": 2,
    "cs203.question_type": "correctness",
    "deletable": false,
    "editable": false,
    "tags": []
   },
   "source": [
    "<div class=\"alert alert-block alert-success\"><div class=\"question correctness points-2\">\n",
    "\n",
    "### Question 9 (Correctness)\n",
    "\n",
    "<div class=\"question-text\">\n",
    "    \n",
    "If a cache miss increases memory instruction latency by 200 cycles, how much should CPI increase between a stride of 1 and a stride of 64 (based on the data above)?\n",
    "    \n",
    "</div>\n",
    "</div>\n",
    "</div>"
   ]
  },
  {
   "cell_type": "markdown",
   "metadata": {
    "cs203.is_response": true,
    "cs203.points": 2,
    "cs203.question_type": "correctness",
    "deletable": false,
    "editable": true
   },
   "source": [
    "<div class=\"alert alert-block alert-success\">\n",
    "\n",
    "<div class=\"answer\">\n",
    "\n",
    "**Your estimation**\n",
    "\n",
    "**Show your work**\n",
    "    \n",
    "<br> Average CPI = hitcycle + (cache missrate) ∗ (100% ∗ main memory cycle + percentage of memory instructions ∗ main memory cycle) \n",
    "\n",
    "<br> Average CPI = hitcycle + (cache missrate) ∗ (100% ∗ main memory cycle + (No of memory instruction/IC) ∗ main memory cycle) \n",
    "    \n",
    "<br> Average CPI = hitcycle + (cache missrate) ∗ (100% ∗ main memory cycle + (L1 dcache accesses/IC) ∗ main memory cycle) \n",
    "\n",
    "<br>When CPI stride is 1 = 4 + 0.03 ∗ (200 + (3354943886/12815619926)∗ 200) = 11.57 \n",
    "\n",
    "<br>When CPI stride is 16 = 4 + 0.42 ∗ (200 + (3359088761/12824202531) ∗ 200) = 109.84 \n",
    "\n",
    "<br>From this, we can conclude that if CPI is more by 9.4x (109/84/11.57)when stride of 16 is considered over the stride of 1.\n",
    "    \n",
    "</div>\n",
    "</div>\n",
    "</div>"
   ]
  },
  {
   "cell_type": "markdown",
   "metadata": {
    "cs203.is_response": true,
    "cs203.points": 4,
    "cs203.question_type": "correctness",
    "deletable": false,
    "editable": false,
    "tags": []
   },
   "source": [
    "<div class=\"alert alert-block alert-success\"><div class=\"question correctness\">\n",
    "\n",
    "### Question 10 (Correctness)\n",
    "<div class=\"question-text\">\n",
    "    \n",
    "Given the conditions described above, estimate the _number of cache misses_ that will occur for `size = 1024`, `size = 4096`, and `size = 16384`.  Assume we run `stride()` 10,000 times with the same values of `data` and `size`. The stride size is 16.\n",
    "\n",
    "</div>\n",
    "</div>\n",
    "</div>"
   ]
  },
  {
   "cell_type": "markdown",
   "metadata": {
    "cs203.is_response": true,
    "cs203.points": 1,
    "cs203.question_type": "correctness",
    "deletable": false,
    "editable": true,
    "tags": []
   },
   "source": [
    "<div class=\"alert alert-block alert-success\">    \n",
    "<div class=\"answer\">\n",
    "    \n",
    "**Cache misses for size = 1024:**\n",
    "    <br> Given data: Stride 16, size is 1024\n",
    "    <br> Size/stride = 1024/16 = 64\n",
    "    <br> Conclusion : Compulsory miss occurs but after that all memory access will be a hit. **64 Cache misses can occur**. \n",
    " \n",
    "**Cache misses for size = 4096:**\n",
    "    <br> Given data: Stride 16, size is 4096\n",
    "    <br> Size/stride = 4096/16 = 256\n",
    "    <br> Conclusion : Compulsory miss occurs but after that all memory access will be a hit. **256 Cache misses can occur**. \n",
    "\n",
    "**Cache misses for size = 16384:**\n",
    "    <br> Given data: Stride 16, size is 16384\n",
    "    <br> It can be observed that temporal and spatial locality can be disregarded as it is also mentioned that there is very little spatial locality. The inner for loop iterates 1024. \n",
    "    <br> Cache miss =  1024 * 10000(program is run so many times) * 16 (the outer for loop) = 163840000\n",
    "**Show your work here**\n",
    "</div>\n",
    "</div>"
   ]
  },
  {
   "cell_type": "markdown",
   "metadata": {
    "cs203.is_response": true,
    "cs203.points": 1,
    "cs203.question_type": "correctness",
    "deletable": false,
    "editable": false,
    "tags": []
   },
   "source": [
    "<div class=\"alert alert-block alert-success\"><div class=\"question correctness\">\n",
    "\n",
    "### Question 11 (Correctness)<div class=\"question-text\">\n",
    "    \n",
    "What's the major types of misses in Question 10 when size == 1024 and size == 16384. \n",
    "\n",
    "</div>\n",
    "</div>\n",
    "</div>"
   ]
  },
  {
   "cell_type": "markdown",
   "metadata": {
    "cs203.is_response": true,
    "cs203.points": 1,
    "cs203.question_type": "correctness",
    "deletable": false,
    "editable": true,
    "tags": []
   },
   "source": [
    "<div class=\"alert alert-block alert-success\">\n",
    "<div class=\"answer\">\n",
    "\n",
    "**What's the major type of 'stride()' in Question 10 when `size == 1024`?**\n",
    "    When size is 1024, compulsory misses occur.\n",
    "\n",
    "**What's the major type of 'stride()' in Question 10 when `size == 16384`?**\n",
    "    When size is 16384, capacity misses occur.\n",
    "\n",
    "</div>\n",
    "</div>"
   ]
  },
  {
   "cell_type": "markdown",
   "metadata": {
    "cs203.is_response": true,
    "cs203.points": 1,
    "cs203.question_type": "completeness",
    "deletable": false,
    "editable": true
   },
   "source": [
    "<div class=\"alert alert-block alert-success\"><div class=\"question completeness\">\n",
    "\n",
    "### Question 12 (Completeness)<div class=\"question-text\">\n",
    "    \n",
    "Assume our 32kB cache with 64-byte lines and 8-way associativity and 64-bit addresses.  Given an address $A$, how can we compute a new address, $B$, that will map to the same associative set but is not part of the same cache line as $A$?  Given an index, $i$, into an array, how can we compute the index of another element, $j$, that will conflict with the first?\n",
    "    \n",
    "    C = ABS\n",
    "    Given data C = 32KB , A =8 ,  64 bit addresses , new address = ?\n",
    "    Address = 52 (tag) + 6 (tag) + 6 (offset)\n",
    "    On plugging in values, I get 12 bits that is 4096, which is the size to change tag.\n",
    "    \n",
    "    \n",
    "\n",
    "</div>\n",
    "</div>\n",
    "</div>"
   ]
  },
  {
   "cell_type": "markdown",
   "metadata": {
    "cs203.is_response": true,
    "cs203.points": 1,
    "cs203.question_type": "completeness",
    "deletable": false,
    "tags": []
   },
   "source": [
    "<div class=\"alert alert-block alert-success\">\n",
    "<div class=\"answer\">\n",
    "\n",
    "**How do you compute `B`?**\n",
    "To compute B, B = A + 0x1000 (12 bit)\n",
    "\n",
    "**How do you compute `j`?**\n",
    "To compute j, considering data type as uint32_t j = 0x1000/4 = 1024\n",
    "</div>\n",
    "</div>"
   ]
  },
  {
   "cell_type": "markdown",
   "metadata": {
    "cs203.is_response": true,
    "cs203.points": 1,
    "cs203.question_type": "completeness",
    "deletable": false,
    "editable": false,
    "tags": []
   },
   "source": [
    "<div class=\"alert alert-block alert-success\"><div class=\"question completeness\">\n",
    "    \n",
    "### Question 13 (Completeness)<div class=\"question-text\">\n",
    "    \n",
    "Based on our analysis above, what do you think will happen with if the stride is one cache line longer (1040 bytes) or or one cache line shorter (1008 bytes)?  Why?\n",
    "    \n",
    "</div>\n",
    "</div>\n",
    "</div>"
   ]
  },
  {
   "cell_type": "markdown",
   "metadata": {
    "cs203.is_response": true,
    "cs203.points": 1,
    "cs203.question_type": "completeness",
    "deletable": false,
    "editable": true
   },
   "source": [
    "<div class=\"alert alert-block alert-success\">    \n",
    "<div class=\"answer\">\n",
    "    \n",
    "**Stride 1008:**\n",
    "   <br> For Stride 1008, I feel that the performance will be enhanced and will reach sets of multiple associativity.\n",
    "**Stride 1040:**\n",
    "    <br> For Stride 1040, I feel that the performance will be enhanced and will reach sets of multiple associativity.\n",
    "</div> \n",
    "</div>"
   ]
  },
  {
   "cell_type": "markdown",
   "metadata": {
    "cs203.is_response": true,
    "cs203.question_type": "optional",
    "deletable": false,
    "editable": false,
    "tags": []
   },
   "source": [
    "<div class=\"alert alert-block alert-success\"><div class=\"question optional\">\n",
    "\n",
    "### Question 14 (Optional)<div class=\"question-text\">\n",
    "\n",
    "Consider the implementation of `tensor_t` described earlier in the assignment.  Accessing a tensor column-wise produces strided accesses which could lead to conflict misses if the dimensions of the tensor are \"unlucky\".  Why is this so?  What constitutes \"unlucky\" dimensions?  How could you modify `tensor_t` make it (mostly) immune to \"unlucky\" dimensions?\n",
    "    \n",
    "</div>\n",
    "</div>\n",
    "</div>\n",
    " "
   ]
  },
  {
   "cell_type": "markdown",
   "metadata": {
    "cs203.is_response": true,
    "cs203.question_type": "optional",
    "deletable": false,
    "editable": true
   },
   "source": [
    "   \n",
    "<div class=\"alert alert-block alert-success\">\n",
    "<div class=\"answer\">\n",
    "Answer: \n",
    "</div>\n",
    "</div>"
   ]
  },
  {
   "cell_type": "markdown",
   "metadata": {
    "cs203.is_response": true,
    "cs203.points": 1,
    "cs203.question_type": "completeness",
    "deletable": false,
    "editable": false,
    "tags": []
   },
   "source": [
    "<div class=\"alert alert-block alert-success\"><div class=\"question completeness\">\n",
    "    \n",
    "### Question 15 (Completeness)<div class=\"question-text\">\n",
    "    \n",
    "As `size` increases, the miss rate for the L1 and L2 will rise.  At value of `size` would you expect to see significant increases in L1 and L2 miss rates? Why?\n",
    "</div>\n",
    "</div>\n",
    "</div>"
   ]
  },
  {
   "cell_type": "markdown",
   "metadata": {
    "cs203.is_response": true,
    "cs203.points": 1,
    "cs203.question_type": "completeness",
    "deletable": false,
    "editable": true
   },
   "source": [
    "<div class=\"alert alert-block alert-success\">\n",
    "<div class=\"answer\">\n",
    "\n",
    "**L1 critical `size`:**\n",
    "    L1's critical size is computed as follows: Dcache size/ uint32_t size\n",
    "\n",
    "**L2 critical `size`:**\n",
    "    L2's critical size is computed as follows: Dcache size/ uint32_t size\n",
    "    \n",
    "</div>\n",
    "</div>"
   ]
  },
  {
   "cell_type": "markdown",
   "metadata": {
    "cs203.is_response": true,
    "cs203.points": 1,
    "cs203.question_type": "completeness",
    "deletable": false,
    "editable": false,
    "tags": []
   },
   "source": [
    "<div class=\"alert alert-block alert-success\"><div class=\"question completeness\">\n",
    "    \n",
    "### Question 16 (Completeness)\n",
    "    \n",
    "<div class=\"question-text\">\n",
    "    \n",
    "Using the code above, what values of `BYTES` and `size` should we run the miss machine with to measure the L1-TLB miss latency?  (The fact that there are two experiments listed is a hint that you'll need to run two different experiments.)\n",
    "    \n",
    "</div>\n",
    "</div>\n",
    "</div>    "
   ]
  },
  {
   "cell_type": "markdown",
   "metadata": {
    "cs203.is_response": true,
    "cs203.points": 1,
    "cs203.question_type": "completeness",
    "deletable": false,
    "editable": true
   },
   "source": [
    "<div class=\"alert alert-block alert-success\">   \n",
    "<div class=\"answer\">\n",
    "\n",
    "|| `BYTES` | `size` |\n",
    "|--|------------|--|\n",
    "|Experiment 1|4160 | 4160|\n",
    "|Experiment 2|4160 | 2129920|\n",
    "    \n",
    "</div>\n",
    "</div>"
   ]
  },
  {
   "cell_type": "markdown",
   "metadata": {
    "cs203.is_response": true,
    "cs203.question_type": "optional",
    "deletable": false,
    "editable": false,
    "tags": []
   },
   "source": [
    "<div class=\"alert alert-block alert-success\"><div class=\"question optional\">\n",
    "    \n",
    "### Question 17 (Optional)\n",
    "\n",
    "<div class=\"question-text\">\n",
    "\n",
    "The measurement above is for a miss to the L1 TLB.  Perform a different experiment to measure the L2 TLB miss latency.  This is harder than it appears at first.\n",
    "    \n",
    "</div>\n",
    "</div>    \n",
    "</div>"
   ]
  },
  {
   "cell_type": "markdown",
   "metadata": {
    "cs203.is_response": true,
    "cs203.question_type": "optional",
    "deletable": false,
    "editable": true
   },
   "source": [
    "    \n",
    "<div class=\"alert alert-block alert-success\">    \n",
    "<div class=\"answer\">\n",
    "Answer:\n",
    "    \n",
    "</div>    \n",
    "</div>"
   ]
  },
  {
   "cell_type": "markdown",
   "metadata": {
    "cs203.is_response": true,
    "cs203.question_type": "optional",
    "deletable": false,
    "editable": false,
    "tags": []
   },
   "source": [
    "<div class=\"alert alert-block alert-success\"><div class=\"question optional\">\n",
    "    \n",
    "### Question 18 (Optional)\n",
    "    \n",
    "<div class=\"question-text\">\n",
    "\n",
    "The measurements above are based on 4kB pages, but we can also use 2MB \"huge pages\".  Repeat the experiment above to determine whether 2MB TLB entries can also reside in the L2 TLB.      \n",
    "</div>\n",
    "<div class=\"answer\">\n",
    "\n",
    "A few notes:\n",
    "    \n",
    "1.  This one is a little involved.  You'll need to significantly tweak the experiments we did above.\n",
    "2.  Whether 2MB TLB entries can be in the in the L2 TLB is not clearly specified in any documents I have found, so I don't know the answer.\n",
    "3.  To get the system to use 2MB huge pages, remove the call to `madvise()` in `TLB.cpp` and ask `posix_memalign()` to give 2MB-aligned memory.\n",
    "4.  Look in `TLB.cpp` for examples of how to change `BYTES`.  `TLB_2M()` is a good starting point.\n",
    "\n",
    "</div>\n",
    "</div>\n",
    "</div>"
   ]
  },
  {
   "cell_type": "markdown",
   "metadata": {
    "cs203.is_response": true,
    "cs203.question_type": "optional",
    "deletable": false,
    "editable": true
   },
   "source": [
    "<div class=\"alert alert-block alert-success\">\n",
    "<div class=\"answer\">\n",
    "\n",
    "A few notes:\n",
    "    \n",
    "1.  This one is a little involved.  You'll need to significantly tweak the experiments we did above.\n",
    "2.  Whether 2MB TLB entries can be in the in the L2 TLB is not clearly specified in any documents I have found, so I don't know the answer.\n",
    "3.  To get the system to use 2MB huge pages, remove the call to `madvise()` in `TLB.cpp` and ask `posix_memalign()` to give 2MB-aligned memory.\n",
    "4.  Look in `TLB.cpp` for examples of how to change `BYTES`.  `TLB_2M()` is a good starting point.\n",
    "\n",
    "</div>\n",
    "</div>\n",
    "    "
   ]
  },
  {
   "cell_type": "code",
   "execution_count": null,
   "metadata": {
    "cs203.is_response": true,
    "deletable": false,
    "editable": true
   },
   "outputs": [],
   "source": [
    "!git config --global user.email \"you@example.com\" !git config --global user.name\\ \n",
    "\"Your Name\""
   ]
  }
 ],
 "metadata": {
  "celltoolbar": "Initialization Cell",
  "kernelspec": {
   "display_name": "Python 3 (ipykernel)",
   "language": "python",
   "name": "python3"
  },
  "language_info": {
   "codemirror_mode": {
    "name": "ipython",
    "version": 3
   },
   "file_extension": ".py",
   "mimetype": "text/x-python",
   "name": "python",
   "nbconvert_exporter": "python",
   "pygments_lexer": "ipython3",
   "version": "3.8.10"
  },
  "toc": {
   "base_numbering": 1,
   "nav_menu": {},
   "number_sections": true,
   "sideBar": true,
   "skip_h1_title": false,
   "title_cell": "Table of Contents",
   "title_sidebar": "Contents",
   "toc_cell": false,
   "toc_position": {
    "height": "calc(100% - 180px)",
    "left": "10px",
    "top": "150px",
    "width": "335px"
   },
   "toc_section_display": true,
   "toc_window_display": true
  },
  "toc-autonumbering": true,
  "widgets": {
   "application/vnd.jupyter.widget-state+json": {
    "state": {},
    "version_major": 2,
    "version_minor": 0
   }
  }
 },
 "nbformat": 4,
 "nbformat_minor": 4
}
